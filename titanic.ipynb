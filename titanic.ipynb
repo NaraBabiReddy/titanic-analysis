{
 "cells": [
  {
   "cell_type": "markdown",
   "metadata": {},
   "source": [
    "kaggle running competetion on titanic survival. I analysed this data with personal interest to find answers to some of my questions (not really competetion oriented)\n",
    "\"https://www.kaggle.com/c/titanic\" \n",
    "\n",
    "## Here are my questions and I will try to find answers \n",
    "1. Does Survival has connection to any other attribute (Passenger Class, Gender, Age, fare range, cabin vs non-cabin) ? If there is any correlation, the next should be to find if there is any reason for it (not in scope here).\n",
    "\n",
    "2. Are there any minors on board with no parent or adult sibling? If available, need an investigation, How could they get on ship with no adult accompany? Though some children might have travelled with nanny, I would still prefer to investigate and find conclusion. (not sure what rules in 1912!, but I will just try this)\n",
    "\n",
    "3. This is the question raises in my brain after every tragedy! How many on board with children? The rate of only parents survival, only children survival, both survival. If only children survived, I would like to talk to them to find if their parents did sacrifice(ex: one space left in life boat) or they are split apart in chaos!! I would also like talk to only parent survival to find what made them left children behind and they crossed disaster.\n",
    "\n",
    "**I will use Python with Numpy and Pandas**"
   ]
  },
  {
   "cell_type": "markdown",
   "metadata": {},
   "source": [
    "*Read data and check attributes and quantity to see if we need munging or imputation*"
   ]
  },
  {
   "cell_type": "code",
   "execution_count": 2,
   "metadata": {
    "collapsed": false
   },
   "outputs": [
    {
     "name": "stdout",
     "output_type": "stream",
     "text": [
      "<class 'pandas.core.frame.DataFrame'>\n",
      "RangeIndex: 891 entries, 0 to 890\n",
      "Data columns (total 12 columns):\n",
      "PassengerId    891 non-null int64\n",
      "Survived       891 non-null int64\n",
      "Pclass         891 non-null int64\n",
      "Name           891 non-null object\n",
      "Sex            891 non-null object\n",
      "Age            714 non-null float64\n",
      "SibSp          891 non-null int64\n",
      "Parch          891 non-null int64\n",
      "Ticket         891 non-null object\n",
      "Fare           891 non-null float64\n",
      "Cabin          204 non-null object\n",
      "Embarked       889 non-null object\n",
      "dtypes: float64(2), int64(5), object(5)\n",
      "memory usage: 83.6+ KB\n"
     ]
    }
   ],
   "source": [
    "# Read CSV file and check if any columns are missing data\n",
    "import numpy as np\n",
    "import pandas as pd\n",
    "\n",
    "#train.csv was downloaded from kaggle\n",
    "titanic = pd.read_csv('train.csv')\n",
    "titanic.info()"
   ]
  },
  {
   "cell_type": "markdown",
   "metadata": {},
   "source": [
    "***I see age is missing for 177 out of 891, that is 20% of passengers. Let's see some numbers what group of people missing age. ***"
   ]
  },
  {
   "cell_type": "code",
   "execution_count": 6,
   "metadata": {
    "collapsed": false
   },
   "outputs": [
    {
     "name": "stdout",
     "output_type": "stream",
     "text": [
      "--------- By Class -------------\n",
      "Pclass\n",
      "1    13.888889\n",
      "2     5.978261\n",
      "3    27.698574\n",
      "Name: PassengerId, dtype: float64\n",
      "--------- By Gender ------------\n",
      "Sex\n",
      "female    16.878981\n",
      "male      21.490468\n",
      "Name: PassengerId, dtype: float64\n",
      "--------- By Boarding St. ------------\n",
      "Embarked\n",
      "C    22.619048\n",
      "Q    63.636364\n",
      "S    13.975155\n",
      "Name: PassengerId, dtype: float64\n"
     ]
    }
   ],
   "source": [
    "# Calculate percentages of groups with Age missing information\n",
    "print '--------- By Class -------------'\n",
    "print titanic.loc[titanic['Age'].isnull()].groupby('Pclass')['PassengerId'].count() / titanic.groupby('Pclass')['PassengerId'].count() * 100 \n",
    "print '--------- By Gender ------------'\n",
    "print titanic.loc[titanic['Age'].isnull()].groupby('Sex')['PassengerId'].count() / titanic.groupby('Sex')['PassengerId'].count() * 100\n",
    "print '--------- By Boarding St. ------------'\n",
    "print titanic.loc[titanic['Age'].isnull()].groupby('Embarked')['PassengerId'].count() / titanic.groupby('Embarked')['PassengerId'].count() *100"
   ]
  },
  {
   "cell_type": "markdown",
   "metadata": {},
   "source": [
    "**Boarding station Q has not captured age for 63% of people. Regulators should warn this station to capture information of passengers (I assume people can register for travel only at boarding stations in 1912).**"
   ]
  },
  {
   "cell_type": "markdown",
   "metadata": {},
   "source": [
    "*I am not building algorithm to estimate age for missing one, I will just replace unknown age with 999 for futher analysis*"
   ]
  },
  {
   "cell_type": "code",
   "execution_count": 38,
   "metadata": {
    "collapsed": false
   },
   "outputs": [],
   "source": [
    "#replace unknown age with 999 to avoid NaN errors later\n",
    "titanic['Age'] = titanic['Age'].fillna(999)"
   ]
  },
  {
   "cell_type": "markdown",
   "metadata": {},
   "source": [
    "# Question 1:\n",
    "Does Survival has connection to any other attribute (Passenger Class, Gender, Age etc)?"
   ]
  },
  {
   "cell_type": "code",
   "execution_count": 22,
   "metadata": {
    "collapsed": false
   },
   "outputs": [
    {
     "name": "stdout",
     "output_type": "stream",
     "text": [
      "Total Survival Percentage:  38\n",
      "   Pclass  Survived  passengers  passenger_class_total       perc\n",
      "0       1         0          80                    216  37.037037\n",
      "1       1         1         136                    216  62.962963\n",
      "2       2         0          97                    184  52.717391\n",
      "3       2         1          87                    184  47.282609\n",
      "4       3         0         372                    491  75.763747\n",
      "5       3         1         119                    491  24.236253\n"
     ]
    },
    {
     "data": {
      "image/png": "[encoded data removed]",
      "text/plain": [
       "<matplotlib.figure.Figure at 0xd108ac8>"
      ]
     },
     "metadata": {},
     "output_type": "display_data"
    },
    {
     "name": "stdout",
     "output_type": "stream",
     "text": [
      "      Sex  Survived  passengers  passenger_class_total       perc\n",
      "0  female         0          81                    314  25.796178\n",
      "1  female         1         233                    314  74.203822\n",
      "2    male         0         468                    577  81.109185\n",
      "3    male         1         109                    577  18.890815\n"
     ]
    },
    {
     "data": {
      "image/png": "[encoded data removed]",
      "text/plain": [
       "<matplotlib.figure.Figure at 0xc8d5b38>"
      ]
     },
     "metadata": {},
     "output_type": "display_data"
    }
   ],
   "source": [
    "#Calculate survival rate for each column \n",
    "#this functions takes column name and group data by that column and produce survival and non-survival percentage \n",
    "def survival_by_group(category):\n",
    "    #Survival(non) count by category\n",
    "    group_class = pd.DataFrame(titanic.groupby([category, 'Survived'])['PassengerId'].count()).reset_index()\n",
    "    #rename column with count to passengers\n",
    "    group_class.rename(columns={'PassengerId' : 'passengers'}, inplace=True)\n",
    "    \n",
    "    #Total number of passengers for each category on board\n",
    "    class_sum = pd.DataFrame(group_class.groupby([category])['passengers'].sum()).reset_index()\n",
    "    class_sum.rename(columns={'passengers' : 'passenger_class_total'}, inplace=True)\n",
    "    \n",
    "    #Merge above two DFs to calculate percentage (surivival(non)-Category / Total-category )\n",
    "    group_by_class = pd.merge(group_class, class_sum, how='left', on=category)\n",
    "    group_by_class['perc'] = group_by_class['passengers']*100/group_by_class['passenger_class_total']\n",
    "    print group_by_class\n",
    "    %matplotlib inline\n",
    "    # build labels for pie chart\n",
    "    labels = []\n",
    "    for i in range(len(group_by_class)):\n",
    "        if group_by_class.loc[i]['Survived'] == 1:\n",
    "            surv = 'Survived'\n",
    "        else:\n",
    "            surv = 'NotSurvivied'\n",
    "        labels.append(category+' '+str(group_by_class.loc[i][category])+','+surv)\n",
    "    group_by_class['perc'].plot(kind='pie', subplots=True, labels=labels, autopct = '%.2f%%')\n",
    "    plt.show()\n",
    "\n",
    "print 'Total Survival Percentage: ',titanic['Survived'].sum()*100/len(titanic)\n",
    "survival_by_group('Pclass')\n",
    "survival_by_group('Sex')\n"
   ]
  },
  {
   "cell_type": "markdown",
   "metadata": {},
   "source": [
    "\n",
    "I can see 75% of passengers in class-3 didn't survive. This is higher margin comparing to other classes or total surival rate. If 3rd class has low chance of survival, we have to find reasons, example: where were these people located on cruise? Are these belong to economy class and that is located in lower level, so they couldn't reach life boats? And total number of passengers in 3rd class is too high, so they couldn't come out of their cabins quickly? Cruise architecture designs might depend on answers to these quesions. (Ofcourse, we are not getting these answers in our data)\n",
    "\n",
    "Here is most interesting thing..It seems female survival rate is too high compare to men. As shown in movie, Leonardo sacrifices for his girlfriend Kate, is this case with many people? :-) I am just kidding. Anyway this factor is little interesting to research further on data if most of the females have spouse or brother or father, if they do, it migth be interesting to know how many of them survived with their male company, and what made others survived leaving male in tragedy. I will just stop here on this part.\n",
    "\n",
    "We could run hypothesis test to proove results we observe (I am not doing it here :-))\n"
   ]
  },
  {
   "cell_type": "markdown",
   "metadata": {},
   "source": [
    "### Let's try draw some results by Age"
   ]
  },
  {
   "cell_type": "code",
   "execution_count": 15,
   "metadata": {
    "collapsed": false
   },
   "outputs": [
    {
     "data": {
      "text/plain": [
       "0      21~30\n",
       "1      31~40\n",
       "2      21~30\n",
       "3      31~40\n",
       "4      31~40\n",
       "5    UNKNOWN\n",
       "6      51~60\n",
       "7       0~10\n",
       "8      21~30\n",
       "9      11~20\n",
       "Name: age_group, dtype: object"
      ]
     },
     "execution_count": 15,
     "metadata": {},
     "output_type": "execute_result"
    }
   ],
   "source": [
    "#Add age group coulm to titanic, values 0=0-9 1=10-19, 2=20-29 etc\n",
    "def age_group(age):\n",
    "    if age <= 10:\n",
    "        return '0~10'\n",
    "    if age <= 20:\n",
    "        return '11~20'\n",
    "    if age <= 30:\n",
    "        return '21~30'\n",
    "    if age <= 40:\n",
    "        return '31~40'\n",
    "    if age <= 50:\n",
    "        return '41~50'\n",
    "    if age <= 60:\n",
    "        return '51~60'\n",
    "    if age <= 70:\n",
    "        return '61~70'\n",
    "    if age <= 80:\n",
    "        return '71~80'\n",
    "    if age <= 90:\n",
    "        return '81~90'\n",
    "    if age <= 100:\n",
    "        return '91~100'\n",
    "    else:\n",
    "        return 'UNKNOWN'\n",
    "      \n",
    "titanic['age_group'] = titanic.Age.apply(age_group)\n",
    "titanic['age_group'].head(10)"
   ]
  },
  {
   "cell_type": "code",
   "execution_count": 16,
   "metadata": {
    "collapsed": false
   },
   "outputs": [
    {
     "data": {
      "text/html": [
       "<iframe id=\"igraph\" scrolling=\"no\" style=\"border:none;\" seamless=\"seamless\" src=\"https://plot.ly/~simha.nry/30.embed\" height=\"525px\" width=\"100%\"></iframe>"
      ],
      "text/plain": [
       "<plotly.tools.PlotlyDisplay object>"
      ]
     },
     "execution_count": 16,
     "metadata": {},
     "output_type": "execute_result"
    }
   ],
   "source": [
    "#Plotting Age group survival on histogram\n",
    "import plotly.plotly as py\n",
    "#use keys created on plot.ly\n",
    "py.sign_in('xxxxxx', 'yyyyyyy')\n",
    "import plotly.graph_objs as go\n",
    "\n",
    "# Known Age Data\n",
    "t_known_age = titanic.loc[titanic['Age'] <> 999]\n",
    "#prepare histogram by Age for Survived\n",
    "survived = go.Histogram(\n",
    "    x=t_known_age.loc[t_known_age['Survived'] == 1]['Age'],\n",
    "    opacity=0.75, \n",
    "    name='Survived'\n",
    ")\n",
    "\n",
    "#prepare histogram by Age for not Survived\n",
    "not_survived = go.Histogram(\n",
    "    x=t_known_age.loc[t_known_age['Survived'] == 0]['Age'],\n",
    "    opacity=0.20, \n",
    "    name='Not Survived'\n",
    ")\n",
    "data = [survived, not_survived]\n",
    "layout = go.Layout(\n",
    "    barmode='overlay'\n",
    ")\n",
    "fig = go.Figure(data=data, layout=layout)\n",
    "py.iplot(fig)"
   ]
  },
  {
   "cell_type": "markdown",
   "metadata": {},
   "source": [
    "** I don't see much variation between survival and not survival by age, both follow similar trend. Some variation can be observed in age group (20-29), but survival rate is close to total survival rate. what surprises me is 0 to 19 survival rate is not too high comparing to others, I actually expected this to be high with assumption people might have tried saving children early, appears that didn't happen or couldn't happen in tragedy.**"
   ]
  },
  {
   "cell_type": "markdown",
   "metadata": {},
   "source": [
    "# Question 2\n",
    "Are there any minors (age < 16) on board with no parent or adult sibling? "
   ]
  },
  {
   "cell_type": "code",
   "execution_count": 27,
   "metadata": {
    "collapsed": false
   },
   "outputs": [],
   "source": [
    "minors_all = pd.DataFrame(titanic.loc[titanic['Age']<16])[['PassengerId', 'Survived', 'Name', 'Sex', 'Age', 'SibSp', 'Parch']]\n",
    "minors = pd.DataFrame(minors_all.loc[minors_all['Parch']==0])[['PassengerId', 'Survived', 'Name', 'Sex', 'Age', 'SibSp']]"
   ]
  },
  {
   "cell_type": "code",
   "execution_count": 29,
   "metadata": {
    "collapsed": false,
    "scrolled": true
   },
   "outputs": [
    {
     "name": "stdout",
     "output_type": "stream",
     "text": [
      "###  Minors with no Parent on Board  ###\n",
      "----------------------------------------\n",
      "     Survived                                     Name     Sex   Age  SibSp\n",
      "9           1      Nasser, Mrs. Nicholas (Adele Achem)  female  14.0      1\n",
      "14          0     Vestrom, Miss. Hulda Amanda Adolfina  female  14.0      0\n",
      "22          1              McGowan, Miss. Anna \"Annie\"  female  15.0      0\n",
      "39          1              Nicola-Yarred, Miss. Jamila  female  14.0      1\n",
      "111         0                     Zabour, Miss. Hileni  female  14.5      1\n",
      "125         1             Nicola-Yarred, Master. Elias    male  12.0      1\n",
      "731         0                 Hassan, Mr. Houssein G N    male  11.0      0\n",
      "777         1            Emanuel, Miss. Virginia Ethel  female   5.0      0\n",
      "780         1                     Ayoub, Miss. Banoura  female  13.0      0\n",
      "830         1  Yasbeck, Mrs. Antoni (Selini Alexander)  female  15.0      1\n",
      "875         1         Najib, Miss. Adele Kiamie \"Jane\"  female  15.0      0\n",
      "\n",
      " ###  Passengers with matching minors last name ###\n",
      "------------------------------------------------------\n",
      "     Survived                  Name   Sex   Age  SibSp  Parch\n",
      "122       0.0  Nasser, Mr. Nicholas  male  32.5    1.0    0.0\n",
      "620       0.0   Yasbeck, Mr. Antoni  male  27.0    1.0    0.0\n",
      "\n",
      " ###  Minors with no matching last name adult on Board  ###\n",
      "--------------------------------------------------------------\n",
      "     Survived                                  Name     Sex   Age  SibSp\n",
      "14        0.0  Vestrom, Miss. Hulda Amanda Adolfina  female  14.0    0.0\n",
      "22        1.0           McGowan, Miss. Anna \"Annie\"  female  15.0    0.0\n",
      "39        1.0           Nicola-Yarred, Miss. Jamila  female  14.0    1.0\n",
      "111       0.0                  Zabour, Miss. Hileni  female  14.5    1.0\n",
      "125       1.0          Nicola-Yarred, Master. Elias    male  12.0    1.0\n",
      "731       0.0              Hassan, Mr. Houssein G N    male  11.0    0.0\n",
      "777       1.0         Emanuel, Miss. Virginia Ethel  female   5.0    0.0\n",
      "780       1.0                  Ayoub, Miss. Banoura  female  13.0    0.0\n",
      "875       1.0      Najib, Miss. Adele Kiamie \"Jane\"  female  15.0    0.0\n"
     ]
    }
   ],
   "source": [
    "# we have some minors on board with 0 in Parch column. Lets see if they actually have parents on board using last name\n",
    "minors_no_parent = pd.DataFrame(columns=minors.columns)\n",
    "minors_parent = pd.DataFrame(columns=titanic.columns)\n",
    "for index1, row1 in minors.iterrows():\n",
    "    # retrieve last name using ',' as delimiter for name string and check if any adult with same last name on board \n",
    "    exists = 'N'\n",
    "    for index2, row2 in titanic.iterrows():\n",
    "        if (row2['Name'].split(',')[0] == row1['Name'].split(',')[0] and \n",
    "           row2['PassengerId'] <> row1['PassengerId'] and row2['Age'] >= 16):\n",
    "            minors_parent = minors_parent.append(row2)\n",
    "            exists = 'Y'\n",
    "    if exists == 'N':\n",
    "        minors_no_parent = minors_no_parent.append(row1)\n",
    "        \n",
    "print '###  Minors with no Parent on Board  ###'\n",
    "print '----------------------------------------'\n",
    "print minors[['Survived', 'Name', 'Sex', 'Age', 'SibSp']]        \n",
    "print '\\n ###  Passengers with matching minor''s last name ###'\n",
    "print '------------------------------------------------------'\n",
    "print minors_parent[['Survived', 'Name', 'Sex', 'Age', 'SibSp', 'Parch']]\n",
    "print '\\n ###  Minors with no matching last name adult on Board  ###'\n",
    "print '--------------------------------------------------------------'\n",
    "print minors_no_parent[['Survived', 'Name', 'Sex', 'Age', 'SibSp']]        "
   ]
  },
  {
   "cell_type": "markdown",
   "metadata": {},
   "source": [
    "**It seems we have adults onboard with same last name as minors and they have non-zero for sibling. So I assume these were accompanied by adult Siblings. But there might be investigation required on last set of names how they were onboard.**  "
   ]
  },
  {
   "cell_type": "markdown",
   "metadata": {},
   "source": [
    "# Question 3\n",
    "About only children surivival "
   ]
  },
  {
   "cell_type": "code",
   "execution_count": 31,
   "metadata": {
    "collapsed": false,
    "scrolled": true
   },
   "outputs": [
    {
     "name": "stdout",
     "output_type": "stream",
     "text": [
      "###  Minors Survived, but parent/s not survived   ###\n",
      "                                                Name   Age\n",
      "43          Laroche, Miss. Simonne Marie Anne Andree  3.00\n",
      "58                      West, Miss. Constance Mirium  5.00\n",
      "165  Goldsmith, Master. Frank John William \"Frankie\"  9.00\n",
      "193                       Navratil, Master. Michel M  3.00\n",
      "237                 Collyer, Miss. Marjorie \"Lottie\"  8.00\n",
      "305                   Allison, Master. Hudson Trevor  0.92\n",
      "340                   Navratil, Master. Edmond Roger  2.00\n",
      "535                           Hart, Miss. Eva Miriam  7.00\n",
      "720                Harper, Miss. Annie Jessie \"Nina\"  6.00\n",
      "788                       Dean, Master. Bertram Vere  1.00\n",
      "827                            Mallet, Master. Andre  1.00\n",
      "\n",
      " ###  Minors not survived, but parent/s survived  ###\n",
      "                                                 Name   Age\n",
      "68                    Andersson, Miss. Erna Alexandra  17.0\n",
      "25  Asplund, Mrs. Carl Oscar (Selma Augusta Emilia...  38.0\n",
      "\n",
      "\n"
     ]
    },
    {
     "data": {
      "image/png": "[encoded data removed]",
      "text/plain": [
       "<matplotlib.figure.Figure at 0xc79a710>"
      ]
     },
     "metadata": {},
     "output_type": "display_data"
    }
   ],
   "source": [
    "#Minors survived but parents not survived\n",
    "minors_1_parent_0 = pd.DataFrame(columns=minors_all.columns)\n",
    "#Minors not survived but parents survived\n",
    "minors_0_parent_1 = pd.DataFrame(columns=titanic.columns)\n",
    "\n",
    "for index1, row1 in minors_all.iterrows():\n",
    "    exists = 'N'\n",
    "    for index2, row2 in titanic.iterrows():\n",
    "        #find parent by last name\n",
    "        if (row1['Survived'] == 1 and \n",
    "            row2['Name'].split(',')[0] == row1['Name'].split(',')[0] and \n",
    "            row2['PassengerId'] <> row1['PassengerId'] and row2['Age'] >= 16 and\n",
    "            row2['Parch'] <> 0 and row2['Survived'] == 0):\n",
    "            \n",
    "            minors_1_parent_0 = minors_1_parent_0.append(row1)\n",
    "            \n",
    "        elif (row1['Survived'] == 0 and \n",
    "            row2['Name'].split(',')[0] == row1['Name'].split(',')[0] and \n",
    "            row2['PassengerId'] <> row1['PassengerId'] and row2['Age'] >= 16 and\n",
    "            row2['Parch'] <> 0 and row2['Survived'] == 1):\n",
    "            if  (minors_0_parent_1['PassengerId'] == row2['PassengerId']).any():\n",
    "                None\n",
    "            else:\n",
    "                minors_0_parent_1 = minors_0_parent_1.append(row2)\n",
    "            \n",
    "print '###  Minors Survived, but parent/s not survived   ###'\n",
    "print minors_1_parent_0[['Name', 'Age']]\n",
    "print '\\n ###  Minors not survived, but parent/s survived  ###'\n",
    "print minors_0_parent_1[['Name', 'Age']]\n",
    "print '\\n'\n",
    "plt.pie([len(minors_1_parent_0), len(minors_0_parent_1)], labels=['minorOnlySurv', 'ParentOnlySurv'], autopct = '%.2f%%')\n",
    "plt.show()"
   ]
  },
  {
   "cell_type": "markdown",
   "metadata": {},
   "source": [
    "**The total number is not huge, Anyway I see children-only survival is too high compare to parent-only survival. I don't think we need to run any stat to proove this difference after seeing above data. This is exactly what I expected. I still see one Age in seconds set (parents) is 17, I think she couldn't be considered to be a parent, this can be fixed by applying more precise rules into code to estimate children and parents.**"
   ]
  },
  {
   "cell_type": "markdown",
   "metadata": {},
   "source": [
    "## Limitations on Analysis:\n",
    "1. We can't strongly rely on analysis based on Age as we have it missing for 20% of passengers.\n",
    "2. This is only data of 891 passengers out of 2300 on board. We can't conclude results with confidence % unless we perform t stat.\n",
    "3. If Parent/Children and Sibling/spouse coulmns would have split, it would have helped more accurate analysis on 3rd question.\n",
    "4. Most of the results are correlation, but there is chance of a cause for class vs surivavl result as explained there. (Ex: low survival in 3rd class due to this class is located in lower level and couldn't reach life boats)"
   ]
  }
 ],
 "metadata": {
  "anaconda-cloud": {},
  "kernelspec": {
   "display_name": "Python [Root]",
   "language": "python",
   "name": "Python [Root]"
  },
  "language_info": {
   "codemirror_mode": {
    "name": "ipython",
    "version": 2
   },
   "file_extension": ".py",
   "mimetype": "text/x-python",
   "name": "python",
   "nbconvert_exporter": "python",
   "pygments_lexer": "ipython2",
   "version": "2.7.12"
  }
 },
 "nbformat": 4,
 "nbformat_minor": 0
}
